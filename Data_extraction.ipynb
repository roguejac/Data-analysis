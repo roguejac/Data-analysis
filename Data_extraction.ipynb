{
 "cells": [
  {
   "cell_type": "markdown",
   "id": "fd0f2607",
   "metadata": {},
   "source": [
    "# A global decline in smoking masks regional variations between the sexes"
   ]
  },
  {
   "cell_type": "code",
   "execution_count": 25,
   "id": "6f905ced",
   "metadata": {},
   "outputs": [],
   "source": [
    "from lxml import etree\n",
    "import urllib.request"
   ]
  },
  {
   "cell_type": "markdown",
   "id": "093b9128",
   "metadata": {},
   "source": [
    "# Extracting data from \n",
    "'https://www.thelancet.com/action/showFullTableHTML?isHtml=true&tableId=tbl1&pii=S0140-6736%2817%2930819-X'"
   ]
  },
  {
   "cell_type": "code",
   "execution_count": 26,
   "id": "f6ea2648",
   "metadata": {},
   "outputs": [],
   "source": [
    "import requests\n",
    "import pandas as pd\n",
    "\n",
    "url = 'https://www.thelancet.com/action/showFullTableHTML?isHtml=true&tableId=tbl1&pii=S0140-6736%2817%2930819-X'\n",
    "html = requests.get(url).content\n",
    "df_list = pd.read_html(html)\n",
    "df = df_list[-1]\n",
    "\n",
    "df.to_csv('my data.csv')"
   ]
  },
  {
   "cell_type": "markdown",
   "id": "69c71cea",
   "metadata": {},
   "source": [
    "Printing the first 5 rows of the data to see what it looks like"
   ]
  },
  {
   "cell_type": "code",
   "execution_count": 27,
   "id": "4bc84952",
   "metadata": {},
   "outputs": [
    {
     "name": "stdout",
     "output_type": "stream",
     "text": [
      "       Unnamed: 0        SDI level 2015 female age-standardised prevalence  \\\n",
      "0          Global              NaN                     5Â·4 (5Â·1 to 5Â·7)   \n",
      "1     Afghanistan          Low SDI                     7Â·0 (4Â·6 to 9Â·7)   \n",
      "2         Albania  High-middle SDI                     2Â·3 (1Â·8 to 2Â·9)   \n",
      "3         Algeria       Middle SDI                     2Â·2 (1Â·5 to 3Â·2)   \n",
      "4  American Samoa  High-middle SDI                  12Â·8 (10Â·3 to 15Â·4)   \n",
      "\n",
      "  2015 male age-standardised prevalence  \\\n",
      "0                25Â·0 (24Â·2 to 25Â·7)   \n",
      "1                21Â·4 (18Â·4 to 24Â·7)   \n",
      "2                29Â·0 (26Â·2 to 31Â·8)   \n",
      "3                17Â·5 (14Â·9 to 20Â·4)   \n",
      "4                27Â·2 (23Â·7 to 31Â·1)   \n",
      "\n",
      "  Annualised rate of change, female 1990â2015  \\\n",
      "0                  â1Â·7 (â2Â·0 to â1Â·4)   \n",
      "1                        0Â·1 (â2Â·0 to 2Â·3)   \n",
      "2                        0Â·0 (â1Â·3 to 1Â·2)   \n",
      "3                  â5Â·3 (â7Â·4 to â3Â·3)   \n",
      "4                     â0Â·1 (â1Â·3 to 1Â·0)   \n",
      "\n",
      "  Annualised rate of change, male 1990â2015  \\\n",
      "0                â1Â·3 (â1Â·5 to â1Â·2)   \n",
      "1                      0Â·5 (â0Â·4 to 1Â·3)   \n",
      "2                   â0Â·5 (â1Â·0 to 0Â·0)   \n",
      "3                â1Â·2 (â2Â·1 to â0Â·3)   \n",
      "4                   â0Â·4 (â1Â·2 to 0Â·3)   \n",
      "\n",
      "  Annualised rate of change, female 1990â2005  \\\n",
      "0                  â1Â·6 (â2Â·0 to â1Â·2)   \n",
      "1                     â0Â·1 (â3Â·5 to 3Â·1)   \n",
      "2                     â0Â·8 (â2Â·6 to 1Â·1)   \n",
      "3                  â5Â·4 (â8Â·6 to â2Â·5)   \n",
      "4                        0Â·4 (â1Â·2 to 2Â·0)   \n",
      "\n",
      "  Annualised rate of change, male 1990â2005  \\\n",
      "0                â1Â·2 (â1Â·4 to â1Â·0)   \n",
      "1                      0Â·6 (â0Â·8 to 2Â·0)   \n",
      "2                â1Â·0 (â1Â·7 to â0Â·3)   \n",
      "3                â1Â·7 (â3Â·0 to â0Â·4)   \n",
      "4                   â0Â·4 (â1Â·4 to 0Â·7)   \n",
      "\n",
      "  Annualised rate of change, female 2005â2015  \\\n",
      "0                  â1Â·8 (â2Â·4 to â1Â·1)   \n",
      "1                        0Â·4 (â4Â·2 to 4Â·6)   \n",
      "2                        1Â·2 (â1Â·3 to 3Â·6)   \n",
      "3                  â5Â·1 (â9Â·6 to â0Â·7)   \n",
      "4                     â0Â·9 (â3Â·0 to 1Â·2)   \n",
      "\n",
      "  Annualised rate of change, male 2005â2015  \n",
      "0                â1Â·5 (â1Â·9 to â1Â·1)  \n",
      "1                      0Â·2 (â1Â·7 to 2Â·1)  \n",
      "2                      0Â·2 (â0Â·8 to 1Â·2)  \n",
      "3                   â0Â·4 (â2Â·1 to 1Â·5)  \n",
      "4                   â0Â·4 (â1Â·9 to 1Â·0)  \n"
     ]
    }
   ],
   "source": [
    "print(df.head(5))"
   ]
  },
  {
   "cell_type": "markdown",
   "id": "e3a3bc45",
   "metadata": {},
   "source": [
    "For our analysis we are interested in the relationship between the Anualised rate of change in smoking habit for male and female for the year 1990 to 2015. We the then extract the relevant columns in the extracted data. We then clean the data by removing non numeric characters in the data"
   ]
  },
  {
   "cell_type": "code",
   "execution_count": 28,
   "id": "95c5894c",
   "metadata": {},
   "outputs": [],
   "source": [
    "rate_male = df[\"Annualised rate of change, male 1990â2015\"].str.split('[ (]',expand=True)\n",
    "rate_female = df[\"Annualised rate of change, female 1990â2015\"].str.split('[ (]',expand=True)"
   ]
  },
  {
   "cell_type": "code",
   "execution_count": 29,
   "id": "ee45d9fd",
   "metadata": {},
   "outputs": [],
   "source": [
    "rate_male.drop(rate_male.columns[[1]], axis=1,inplace=True)\n",
    "rate_female.drop(rate_female.columns[[1]], axis=1,inplace=True)"
   ]
  },
  {
   "cell_type": "code",
   "execution_count": 30,
   "id": "34655105",
   "metadata": {},
   "outputs": [],
   "source": [
    "rate_male=rate_male.replace(\"â\", \"-\", regex=True)\n",
    "rate_male=rate_male.replace(\"Â\", \"\", regex=True)\n",
    "rate_male=rate_male.replace(\" \", \"\", regex=True)\n",
    "rate_male=rate_male.replace(\"·\", \".\", regex=True)\n",
    "\n",
    "rate_female=rate_female.replace(\"â\", \"-\", regex=True)\n",
    "rate_female=rate_female.replace(\"Â\", \"\", regex=True)\n",
    "rate_female=rate_female.replace(\" \", \"\", regex=True)\n",
    "rate_female=rate_female.replace(\"·\", \".\", regex=True)"
   ]
  },
  {
   "cell_type": "code",
   "execution_count": 31,
   "id": "31446195",
   "metadata": {},
   "outputs": [],
   "source": [
    "rate_male = rate_male[[0]]\n",
    "rate_female = rate_female[[0]]"
   ]
  },
  {
   "cell_type": "markdown",
   "id": "80753bdd",
   "metadata": {},
   "source": [
    "We then convert the values from object type to float in order to perform necessary analysis"
   ]
  },
  {
   "cell_type": "code",
   "execution_count": 34,
   "id": "f7ac466d",
   "metadata": {},
   "outputs": [],
   "source": [
    "rate_male[[0]] = rate_male[[0]].astype(float)\n",
    "rate_female[[0]] = rate_female[[0]].astype(float)"
   ]
  },
  {
   "cell_type": "code",
   "execution_count": 35,
   "id": "0c459f6d",
   "metadata": {},
   "outputs": [],
   "source": [
    "data = pd.concat([df[\"Unnamed: 0\"],rate_female, rate_male], axis=1)\n",
    "data.columns = ['Country','rate_female','rate_male']"
   ]
  },
  {
   "cell_type": "markdown",
   "id": "eaf175d5",
   "metadata": {},
   "source": [
    "We also want to visualize our data according to the criterias,  \n",
    "\"Female increase male increase\"\n",
    "\"Female increase male decrease\"\n",
    "\"Female decrease male increase\"\n",
    "\"Female decrease male decrease\""
   ]
  },
  {
   "cell_type": "code",
   "execution_count": 36,
   "id": "647cc8e1",
   "metadata": {},
   "outputs": [],
   "source": [
    "category = []\n",
    "nrow = data.shape[0]"
   ]
  },
  {
   "cell_type": "code",
   "execution_count": 37,
   "id": "7e47d227",
   "metadata": {},
   "outputs": [],
   "source": [
    "for i in range(nrow):\n",
    "    if data.iloc[i,1]>0 and data.iloc[i,2]>0:\n",
    "        category.append(\"Female_increase male_increase\")\n",
    "    elif data.iloc[i,1]>0 and data.iloc[i,2]<0:\n",
    "        category.append(\"Female_increase male_decrease\")\n",
    "    elif data.iloc[i,1]<0 and data.iloc[i,2]>0:\n",
    "        category.append(\"Female_decrease male_increase\")\n",
    "    else:\n",
    "        category.append(\"Female_decrease male_decrease\")\n",
    "    "
   ]
  },
  {
   "cell_type": "code",
   "execution_count": 38,
   "id": "d2391db9",
   "metadata": {},
   "outputs": [],
   "source": [
    "cat = pd.DataFrame(category, columns=['category'])"
   ]
  },
  {
   "cell_type": "code",
   "execution_count": 40,
   "id": "8b45e63e",
   "metadata": {},
   "outputs": [],
   "source": [
    "data = pd.concat([data,cat], axis=1)    "
   ]
  },
  {
   "cell_type": "markdown",
   "id": "2870ced6",
   "metadata": {},
   "source": [
    "We look at the summary statistics for the data"
   ]
  },
  {
   "cell_type": "code",
   "execution_count": 42,
   "id": "dc7bd344",
   "metadata": {},
   "outputs": [
    {
     "data": {
      "text/html": [
       "<div>\n",
       "<style scoped>\n",
       "    .dataframe tbody tr th:only-of-type {\n",
       "        vertical-align: middle;\n",
       "    }\n",
       "\n",
       "    .dataframe tbody tr th {\n",
       "        vertical-align: top;\n",
       "    }\n",
       "\n",
       "    .dataframe thead th {\n",
       "        text-align: right;\n",
       "    }\n",
       "</style>\n",
       "<table border=\"1\" class=\"dataframe\">\n",
       "  <thead>\n",
       "    <tr style=\"text-align: right;\">\n",
       "      <th></th>\n",
       "      <th>rate_female</th>\n",
       "      <th>rate_male</th>\n",
       "    </tr>\n",
       "  </thead>\n",
       "  <tbody>\n",
       "    <tr>\n",
       "      <th>count</th>\n",
       "      <td>196.000000</td>\n",
       "      <td>196.000000</td>\n",
       "    </tr>\n",
       "    <tr>\n",
       "      <th>mean</th>\n",
       "      <td>-0.846429</td>\n",
       "      <td>-0.829592</td>\n",
       "    </tr>\n",
       "    <tr>\n",
       "      <th>std</th>\n",
       "      <td>1.449116</td>\n",
       "      <td>0.988779</td>\n",
       "    </tr>\n",
       "    <tr>\n",
       "      <th>min</th>\n",
       "      <td>-5.300000</td>\n",
       "      <td>-4.100000</td>\n",
       "    </tr>\n",
       "    <tr>\n",
       "      <th>25%</th>\n",
       "      <td>-1.700000</td>\n",
       "      <td>-1.400000</td>\n",
       "    </tr>\n",
       "    <tr>\n",
       "      <th>50%</th>\n",
       "      <td>-0.800000</td>\n",
       "      <td>-0.750000</td>\n",
       "    </tr>\n",
       "    <tr>\n",
       "      <th>75%</th>\n",
       "      <td>-0.100000</td>\n",
       "      <td>-0.300000</td>\n",
       "    </tr>\n",
       "    <tr>\n",
       "      <th>max</th>\n",
       "      <td>4.500000</td>\n",
       "      <td>2.400000</td>\n",
       "    </tr>\n",
       "  </tbody>\n",
       "</table>\n",
       "</div>"
      ],
      "text/plain": [
       "       rate_female   rate_male\n",
       "count   196.000000  196.000000\n",
       "mean     -0.846429   -0.829592\n",
       "std       1.449116    0.988779\n",
       "min      -5.300000   -4.100000\n",
       "25%      -1.700000   -1.400000\n",
       "50%      -0.800000   -0.750000\n",
       "75%      -0.100000   -0.300000\n",
       "max       4.500000    2.400000"
      ]
     },
     "execution_count": 42,
     "metadata": {},
     "output_type": "execute_result"
    }
   ],
   "source": [
    "data.describe()"
   ]
  },
  {
   "cell_type": "markdown",
   "id": "f6bf1fe4",
   "metadata": {},
   "source": [
    "Now we need to check if there any missing values in our data. There are no missing values in our data"
   ]
  },
  {
   "cell_type": "code",
   "execution_count": 43,
   "id": "5685d509",
   "metadata": {},
   "outputs": [
    {
     "data": {
      "text/plain": [
       "Country        0\n",
       "rate_female    0\n",
       "rate_male      0\n",
       "category       0\n",
       "dtype: int64"
      ]
     },
     "execution_count": 43,
     "metadata": {},
     "output_type": "execute_result"
    }
   ],
   "source": [
    "data.isnull().sum()    #counting number of missing values in each clouns"
   ]
  },
  {
   "cell_type": "markdown",
   "id": "2bf62787",
   "metadata": {},
   "source": [
    "We are saving the data into a csv file in order to do the visualisation in R"
   ]
  },
  {
   "cell_type": "code",
   "execution_count": 45,
   "id": "6fe839e5",
   "metadata": {},
   "outputs": [],
   "source": [
    "data.to_csv('mydata.csv')"
   ]
  },
  {
   "cell_type": "markdown",
   "id": "379af696",
   "metadata": {},
   "source": [
    "There point in the plot that are labelled accroding to their countries and some are not. It took me time to understand that and i belive that the points are labelled according countries with women that are taking up the habit even as men quit."
   ]
  },
  {
   "cell_type": "markdown",
   "id": "3022c67a",
   "metadata": {},
   "source": [
    "# What was the most challenging part of this exercise?\n",
    "\n",
    "This was a great exersise. The most challenging part was figuring out why some points are labelled and why some are not"
   ]
  },
  {
   "cell_type": "markdown",
   "id": "4657c905",
   "metadata": {},
   "source": [
    "# What took you the longest?\n",
    "Again, it took time in figuring out why some points are labelled and why some are not"
   ]
  },
  {
   "cell_type": "markdown",
   "id": "cf4d1d4d",
   "metadata": {},
   "source": [
    "# What did you enjoy the most?\n",
    "\n",
    "The exercise was enjoyable and it was satisfying to be able to get data directly from the internet. I really enjoyed the challenge."
   ]
  },
  {
   "cell_type": "markdown",
   "id": "02a131c5",
   "metadata": {},
   "source": [
    "# What did you enjoy the least?\n",
    "This excersise was all data analysis and programming, and this is what i enjoy. Nothing in the excersize was less enjoyable"
   ]
  },
  {
   "cell_type": "code",
   "execution_count": null,
   "id": "0769a8e2",
   "metadata": {},
   "outputs": [],
   "source": []
  }
 ],
 "metadata": {
  "kernelspec": {
   "display_name": "local-venv",
   "language": "python",
   "name": "local-venv"
  },
  "language_info": {
   "codemirror_mode": {
    "name": "ipython",
    "version": 3
   },
   "file_extension": ".py",
   "mimetype": "text/x-python",
   "name": "python",
   "nbconvert_exporter": "python",
   "pygments_lexer": "ipython3",
   "version": "3.6.13"
  }
 },
 "nbformat": 4,
 "nbformat_minor": 5
}
